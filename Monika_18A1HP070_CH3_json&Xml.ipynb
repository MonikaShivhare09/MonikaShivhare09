{
 "cells": [
  {
   "cell_type": "markdown",
   "metadata": {},
   "source": [
    "## Handling JSON Files\n",
    "##### This notebook showcases methods to read JSON type data:\n",
    "##### using python's inbuilt utilities\n",
    "##### \n",
    "##### using pandas"
   ]
  },
  {
   "cell_type": "code",
   "execution_count": 11,
   "metadata": {},
   "outputs": [],
   "source": [
    "# import required libraries\n",
    "import json\n",
    "import pandas as pd"
   ]
  },
  {
   "cell_type": "code",
   "execution_count": 12,
   "metadata": {},
   "outputs": [],
   "source": [
    "\n",
    "def print_nested_dicts(nested_dict,indent_level=0):\n",
    "    \"\"\"This function prints a nested dict object\n",
    "    Args:\n",
    "        nested_dict (dict): the dictionary to be printed\n",
    "        indent_level (int): the indentation level for nesting\n",
    "    Returns:\n",
    "        None\n",
    "\n",
    "    \"\"\"\n",
    "    \n",
    "    for key, val in nested_dict.items():\n",
    "        if isinstance(val, dict):\n",
    "          print(\"{0} : \".format(key))\n",
    "          print_nested_dicts(val,indent_level=indent_level+1)\n",
    "        elif isinstance(val,list):\n",
    "            print(\"{0} : \".format(key))\n",
    "            for rec in val:\n",
    "                print_nested_dicts(rec,indent_level=indent_level+1)\n",
    "        else:\n",
    "          print(\"{0}{1} : {2}\".format(\"\\t\"*indent_level,key, val))\n",
    "\n",
    "def extract_json(file_name,do_print=True):\n",
    "    \"\"\"This function extracts and prints json content from a given file\n",
    "    Args:\n",
    "        file_name (str): file path to be read\n",
    "        do_print (bool): boolean flag to print file contents or not\n",
    "\n",
    "    Returns:\n",
    "        None\n",
    "\n",
    "    \"\"\"\n",
    "    try:\n",
    "        json_filedata = open(file_name).read() \n",
    "        json_data = json.loads(json_filedata)\n",
    "        \n",
    "        if do_print:\n",
    "            print_nested_dicts(json_data)\n",
    "    except IOError:\n",
    "        raise IOError(\"File path incorrect/ File not found\")\n",
    "    except ValueError:\n",
    "        ValueError(\"JSON file has errors\")\n",
    "    except Exception:\n",
    "        raise\n",
    "\n",
    "def extract_pandas_json(file_name,orientation=\"records\",do_print=True):\n",
    "    \"\"\"This function extracts and prints json content from a file using pandas\n",
    "       This is useful when json data represents tabular, series information\n",
    "    Args:\n",
    "        file_name (str): file path to be read\n",
    "        orientation (str): orientation of json file. Defaults to records\n",
    "        do_print (bool): boolean flag to print file contents or not\n",
    "\n",
    "    Returns:\n",
    "        None\n",
    "\n",
    "    \"\"\"\n",
    "    try:\n",
    "        df = pd.read_json(file_name,orient=orientation)\n",
    "        \n",
    "        if do_print:\n",
    "            print(df)\n",
    "    except IOError:\n",
    "        raise IOError(\"File path incorrect/ File not found\")\n",
    "    except ValueError:\n",
    "        ValueError(\"JSON file has errors\")\n",
    "    except Exception:\n",
    "        raise"
   ]
  },
  {
   "cell_type": "code",
   "execution_count": 14,
   "metadata": {},
   "outputs": [
    {
     "name": "stdout",
     "output_type": "stream",
     "text": [
      "outer_col_1 : \n",
      "\tnested_inner_col_1 : val_1\n",
      "\tnested_inner_col_2 : 2\n",
      "\tnested_inner_col_1 : val_2\n",
      "\tnested_inner_col_2 : 2\n",
      "outer_col_2 : \n",
      "\tinner_col_1 : 3\n",
      "outer_col_3 : 4\n"
     ]
    }
   ],
   "source": [
    "# gives nested ouput as per the structure of json\n",
    "extract_json(r'C:\\Users\\asus\\practical-ml-w-python-master\\Code_Ch 03\\code\\sample_json.json')"
   ]
  },
  {
   "cell_type": "code",
   "execution_count": 15,
   "metadata": {},
   "outputs": [],
   "source": [
    "# read json and prepares tabular dataframe\n",
    "extract_pandas_json(r'pandas_json.json')"
   ]
  },
  {
   "cell_type": "markdown",
   "metadata": {},
   "source": [
    "## Handling XML\n",
    "\n",
    "This notebook showcases methods to read XML type data using:\n",
    "xml library\n",
    "xmltodict library"
   ]
  },
  {
   "cell_type": "code",
   "execution_count": 18,
   "metadata": {},
   "outputs": [
    {
     "ename": "ModuleNotFoundError",
     "evalue": "No module named 'xml2dict'",
     "output_type": "error",
     "traceback": [
      "\u001b[1;31m---------------------------------------------------------------------------\u001b[0m",
      "\u001b[1;31mModuleNotFoundError\u001b[0m                       Traceback (most recent call last)",
      "\u001b[1;32m<ipython-input-18-36fba7df8592>\u001b[0m in \u001b[0;36m<module>\u001b[1;34m\u001b[0m\n\u001b[0;32m      1\u001b[0m \u001b[1;31m# import required libraries\u001b[0m\u001b[1;33m\u001b[0m\u001b[1;33m\u001b[0m\u001b[1;33m\u001b[0m\u001b[0m\n\u001b[0;32m      2\u001b[0m \u001b[1;32mimport\u001b[0m \u001b[0mxml\u001b[0m\u001b[1;33m.\u001b[0m\u001b[0metree\u001b[0m\u001b[1;33m.\u001b[0m\u001b[0mElementTree\u001b[0m \u001b[1;32mas\u001b[0m \u001b[0mET\u001b[0m\u001b[1;33m\u001b[0m\u001b[1;33m\u001b[0m\u001b[0m\n\u001b[1;32m----> 3\u001b[1;33m \u001b[1;32mimport\u001b[0m \u001b[0mxml2dict\u001b[0m\u001b[1;33m\u001b[0m\u001b[1;33m\u001b[0m\u001b[0m\n\u001b[0m",
      "\u001b[1;31mModuleNotFoundError\u001b[0m: No module named 'xml2dict'"
     ]
    }
   ],
   "source": [
    "# import required libraries\n",
    "import xml.etree.ElementTree as ET\n",
    "import xml2dict"
   ]
  },
  {
   "cell_type": "code",
   "execution_count": null,
   "metadata": {},
   "outputs": [],
   "source": []
  }
 ],
 "metadata": {
  "kernelspec": {
   "display_name": "Python 3",
   "language": "python",
   "name": "python3"
  },
  "language_info": {
   "codemirror_mode": {
    "name": "ipython",
    "version": 3
   },
   "file_extension": ".py",
   "mimetype": "text/x-python",
   "name": "python",
   "nbconvert_exporter": "python",
   "pygments_lexer": "ipython3",
   "version": "3.7.3"
  }
 },
 "nbformat": 4,
 "nbformat_minor": 2
}
